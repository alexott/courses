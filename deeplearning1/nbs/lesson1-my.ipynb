{
 "cells": [
  {
   "cell_type": "markdown",
   "metadata": {},
   "source": [
    "This is solution for Lesson 1 of Fast.ai course on DL.  Solution is using Keras 2, and re-uses ideas from great \"Deep Learning with Python\" book by Keras's author."
   ]
  },
  {
   "cell_type": "code",
   "execution_count": 1,
   "metadata": {},
   "outputs": [],
   "source": [
    "%matplotlib inline"
   ]
  },
  {
   "cell_type": "code",
   "execution_count": 2,
   "metadata": {},
   "outputs": [],
   "source": [
    "# Importing base functions\n",
    "from __future__ import division,print_function\n",
    "\n",
    "import os, json\n",
    "from glob import glob\n",
    "import numpy as np\n",
    "np.set_printoptions(precision=4, linewidth=100)\n",
    "from matplotlib import pyplot as plt"
   ]
  },
  {
   "cell_type": "markdown",
   "metadata": {},
   "source": [
    "Import Keras's functions"
   ]
  },
  {
   "cell_type": "code",
   "execution_count": 3,
   "metadata": {},
   "outputs": [
    {
     "name": "stderr",
     "output_type": "stream",
     "text": [
      "Using TensorFlow backend.\n"
     ]
    }
   ],
   "source": [
    "from keras.applications import VGG16\n",
    "from keras import backend as K\n",
    "from keras.regularizers import l2, l1\n",
    "from keras.preprocessing import image\n",
    "from keras import models\n",
    "from keras import layers\n",
    "from keras import optimizers\n",
    "from keras import callbacks\n",
    "#from keras.utils.training_utils import multi_gpu_model # only in 2.0.9"
   ]
  },
  {
   "cell_type": "markdown",
   "metadata": {},
   "source": [
    "Loading VGG 16 model from Keras itself"
   ]
  },
  {
   "cell_type": "code",
   "execution_count": 4,
   "metadata": {},
   "outputs": [],
   "source": [
    "input_dim = 224\n",
    "vgg16 = VGG16(weights='imagenet', include_top=False, input_shape=(input_dim, input_dim, 3))"
   ]
  },
  {
   "cell_type": "code",
   "execution_count": 5,
   "metadata": {},
   "outputs": [],
   "source": [
    "base_dir = \"/home/ott/work/datasets/dogs-vs-cats-redux-kernels-edition/\"\n",
    "\n",
    "train_dir = os.path.join(base_dir, 'train')\n",
    "valid_dir = os.path.join(base_dir, 'valid')\n",
    "test_dir = os.path.join(base_dir, 'test')\n",
    "\n",
    "batch_size = 20"
   ]
  },
  {
   "cell_type": "code",
   "execution_count": 6,
   "metadata": {
    "scrolled": true
   },
   "outputs": [
    {
     "name": "stdout",
     "output_type": "stream",
     "text": [
      "Found 21000 images belonging to 2 classes.\n",
      "Found 2000 images belonging to 2 classes.\n",
      "Found 2000 images belonging to 2 classes.\n"
     ]
    }
   ],
   "source": [
    "train_datagen = image.ImageDataGenerator(\n",
    "      rescale=1./255,\n",
    "      rotation_range=40,\n",
    "      width_shift_range=0.2,\n",
    "      height_shift_range=0.2,\n",
    "      shear_range=0.2,\n",
    "      zoom_range=0.2,\n",
    "      horizontal_flip=True,\n",
    "      fill_mode='nearest')\n",
    "\n",
    "train_generator = train_datagen.flow_from_directory(\n",
    "        train_dir,\n",
    "        target_size = (input_dim, input_dim),\n",
    "        batch_size = batch_size,\n",
    "        class_mode='binary',\n",
    "        shuffle=True,\n",
    "        classes=['cats','dogs'])\n",
    "\n",
    "valid_generator = image.ImageDataGenerator(rescale=1./255).flow_from_directory(\n",
    "        valid_dir,\n",
    "        target_size=(input_dim, input_dim),\n",
    "        batch_size = batch_size,\n",
    "        class_mode='binary',\n",
    "        shuffle=False,\n",
    "        classes=['cats','dogs'])\n",
    "\n",
    "test_generator = image.ImageDataGenerator(rescale=1./255).flow_from_directory(\n",
    "        test_dir,\n",
    "        target_size=(input_dim, input_dim),\n",
    "        batch_size = batch_size,\n",
    "        class_mode='binary',\n",
    "        shuffle=False,\n",
    "        classes=['cats','dogs'])"
   ]
  },
  {
   "cell_type": "code",
   "execution_count": 7,
   "metadata": {},
   "outputs": [
    {
     "name": "stdout",
     "output_type": "stream",
     "text": [
      "_________________________________________________________________\n",
      "Layer (type)                 Output Shape              Param #   \n",
      "=================================================================\n",
      "vgg16 (Model)                (None, 7, 7, 512)         14714688  \n",
      "_________________________________________________________________\n",
      "flatten_1 (Flatten)          (None, 25088)             0         \n",
      "_________________________________________________________________\n",
      "dense_1 (Dense)              (None, 256)               6422784   \n",
      "_________________________________________________________________\n",
      "dense_2 (Dense)              (None, 1)                 257       \n",
      "=================================================================\n",
      "Total params: 21,137,729\n",
      "Trainable params: 13,502,465\n",
      "Non-trainable params: 7,635,264\n",
      "_________________________________________________________________\n"
     ]
    }
   ],
   "source": [
    "# This model is disables most of the layers of VGG16, and enabling only the last layers for retraining.\n",
    "vgg16.trainable = True\n",
    "\n",
    "for layer in vgg16.layers:\n",
    "    layer.trainable = layer.name.startswith('block5_')\n",
    "\n",
    "model = models.Sequential()\n",
    "model.add(vgg16)\n",
    "model.add(layers.Flatten())\n",
    "model.add(layers.Dense(256, activation='relu'))\n",
    "model.add(layers.Dense(1, activation='sigmoid'))\n",
    "\n",
    "model.compile(loss='binary_crossentropy',\n",
    "              optimizer=optimizers.RMSprop(lr=2e-5),\n",
    "              metrics=['acc'])\n",
    "\n",
    "model.summary()"
   ]
  },
  {
   "cell_type": "code",
   "execution_count": 8,
   "metadata": {
    "scrolled": true
   },
   "outputs": [
    {
     "name": "stdout",
     "output_type": "stream",
     "text": [
      "Epoch 1/20\n",
      "1050/1050 [==============================] - 191s - loss: 0.2544 - acc: 0.8911 - val_loss: 0.1117 - val_acc: 0.9590\n",
      "Epoch 2/20\n",
      "1050/1050 [==============================] - 181s - loss: 0.1572 - acc: 0.9361 - val_loss: 0.0947 - val_acc: 0.9655\n",
      "Epoch 3/20\n",
      "1050/1050 [==============================] - 177s - loss: 0.1401 - acc: 0.9464 - val_loss: 0.1363 - val_acc: 0.9595\n",
      "Epoch 4/20\n",
      "1050/1050 [==============================] - 178s - loss: 0.1339 - acc: 0.9495 - val_loss: 0.0735 - val_acc: 0.9735\n",
      "Epoch 5/20\n",
      "1050/1050 [==============================] - 179s - loss: 0.1271 - acc: 0.9515 - val_loss: 0.0704 - val_acc: 0.9765\n",
      "Epoch 6/20\n",
      "1050/1050 [==============================] - 177s - loss: 0.1218 - acc: 0.9529 - val_loss: 0.1019 - val_acc: 0.9635\n",
      "Epoch 7/20\n",
      "1050/1050 [==============================] - 177s - loss: 0.1249 - acc: 0.9547 - val_loss: 0.0834 - val_acc: 0.9740\n",
      "Epoch 8/20\n",
      "1050/1050 [==============================] - 177s - loss: 0.1263 - acc: 0.9550 - val_loss: 0.0835 - val_acc: 0.9700\n",
      "Epoch 9/20\n",
      "1050/1050 [==============================] - 178s - loss: 0.1265 - acc: 0.9551 - val_loss: 0.0914 - val_acc: 0.9755\n",
      "Epoch 10/20\n",
      "1050/1050 [==============================] - 178s - loss: 0.1251 - acc: 0.9577 - val_loss: 0.1098 - val_acc: 0.9650\n",
      "Epoch 11/20\n",
      "1050/1050 [==============================] - 178s - loss: 0.1260 - acc: 0.9572 - val_loss: 0.1164 - val_acc: 0.9695\n",
      "Epoch 12/20\n",
      "1050/1050 [==============================] - 177s - loss: 0.1287 - acc: 0.9575 - val_loss: 0.2746 - val_acc: 0.9530\n",
      "Epoch 13/20\n",
      "1050/1050 [==============================] - 176s - loss: 0.1315 - acc: 0.9547 - val_loss: 0.1330 - val_acc: 0.9705\n"
     ]
    }
   ],
   "source": [
    "best_model_name = '/home/ott/work/DL/dogs_cats.h5'\n",
    "callbacks_list = [callbacks.EarlyStopping(monitor='acc', patience=2),\n",
    "                  callbacks.ModelCheckpoint(filepath=best_model_name,\n",
    "                                monitor='val_loss', save_best_only=True)\n",
    "                 ]\n",
    "history = model.fit_generator(\n",
    "      train_generator,\n",
    "      steps_per_epoch=train_generator.samples/train_generator.batch_size,\n",
    "      epochs=20,\n",
    "      callbacks=callbacks_list,\n",
    "      validation_data=valid_generator,\n",
    "      validation_steps=valid_generator.samples/valid_generator.batch_size)"
   ]
  },
  {
   "cell_type": "code",
   "execution_count": 9,
   "metadata": {},
   "outputs": [
    {
     "name": "stdout",
     "output_type": "stream",
     "text": [
      "[0.10951651223760564, 0.96799999535083769]\n",
      "[0.08541554275521776, 0.96849999368190764]\n"
     ]
    }
   ],
   "source": [
    "# evaluate on model itself\n",
    "print(model.evaluate_generator(test_generator, test_generator.samples/test_generator.batch_size))\n",
    "\n",
    "# Load the best model & evaluate on it...\n",
    "best_model = models.load_model(best_model_name)\n",
    "test_res = best_model.evaluate_generator(test_generator, test_generator.samples/test_generator.batch_size)\n",
    "print(test_res)\n"
   ]
  },
  {
   "cell_type": "code",
   "execution_count": 10,
   "metadata": {},
   "outputs": [
    {
     "name": "stdout",
     "output_type": "stream",
     "text": [
      "Found 12500 images belonging to 1 classes.\n"
     ]
    }
   ],
   "source": [
    "kaggle_generator = image.ImageDataGenerator(rescale=1./255).flow_from_directory(\n",
    "        base_dir + 'test-orig',\n",
    "        target_size=(input_dim, input_dim),\n",
    "        batch_size = batch_size,\n",
    "        shuffle=False,\n",
    "        class_mode=None)\n",
    "\n",
    "kaggle_results = best_model.predict_generator(kaggle_generator, kaggle_generator.samples/kaggle_generator.batch_size)\n",
    "kaggle_filenames = kaggle_generator.filenames"
   ]
  },
  {
   "cell_type": "code",
   "execution_count": 11,
   "metadata": {
    "scrolled": false
   },
   "outputs": [
    {
     "name": "stdout",
     "output_type": "stream",
     "text": [
      "{'dogs': 1, 'cats': 0}\n"
     ]
    }
   ],
   "source": [
    "print(train_generator.class_indices)\n",
    "pairs = list(zip(kaggle_filenames, kaggle_results))\n",
    "#print(pairs[0:20])\n"
   ]
  },
  {
   "cell_type": "code",
   "execution_count": 12,
   "metadata": {},
   "outputs": [
    {
     "data": {
      "text/plain": [
       "array([ 0.95,  0.95,  0.95,  0.95,  0.05,  0.05,  0.05,  0.05,  0.05,  0.05])"
      ]
     },
     "execution_count": 12,
     "metadata": {},
     "output_type": "execute_result"
    }
   ],
   "source": [
    "sorted_results = np.zeros(len(kaggle_results))\n",
    "for i in range(0, len(kaggle_results)):\n",
    "    file_idx = int(os.path.splitext(os.path.basename(kaggle_filenames[i]))[0])-1\n",
    "    sorted_results[file_idx] = kaggle_results[i][0]\n",
    "\n",
    "sorted_results = np.clip(sorted_results, 0.05, 0.95)\n",
    "sorted_results[0:10]"
   ]
  },
  {
   "cell_type": "code",
   "execution_count": 13,
   "metadata": {},
   "outputs": [],
   "source": [
    "with open('kaggle_submit.csv', 'w') as f:\n",
    "    f.write('id,label\\n')\n",
    "    for i in range(0, len(sorted_results)):\n",
    "        f.write(str(i+1)+','+str(sorted_results[i])+'\\n')\n",
    "        \n",
    "# could also use following code if it could be represented as matrix...\n",
    "# np.savetxt('submission.csv', subm, fmt='%d,%.5f', header='id,label', comments='')"
   ]
  },
  {
   "cell_type": "code",
   "execution_count": null,
   "metadata": {},
   "outputs": [],
   "source": []
  }
 ],
 "metadata": {
  "kernelspec": {
   "display_name": "Python 3",
   "language": "python",
   "name": "python3"
  },
  "language_info": {
   "codemirror_mode": {
    "name": "ipython",
    "version": 3
   },
   "file_extension": ".py",
   "mimetype": "text/x-python",
   "name": "python",
   "nbconvert_exporter": "python",
   "pygments_lexer": "ipython3",
   "version": "3.5.2"
  }
 },
 "nbformat": 4,
 "nbformat_minor": 2
}
